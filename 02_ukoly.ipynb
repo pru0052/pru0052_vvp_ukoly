{
 "cells": [
  {
   "attachments": {},
   "cell_type": "markdown",
   "metadata": {},
   "source": [
    "# Prostory jmen a obor platnosti proměnných:\n",
    "- Upravte funkci nalézající prvočísla tak, aby ukládala již spočítané prvočísla do listu v defaultním argumentu funkce. \n"
   ]
  },
  {
   "cell_type": "code",
   "execution_count": 228,
   "metadata": {},
   "outputs": [],
   "source": [
    "def najdi_prvocisla(n,prvocisla = [2]):\n",
    "    i = prvocisla[-1]\n",
    "    while len(prvocisla) < n:\n",
    "        i += 1\n",
    "        for prvocislo in prvocisla:\n",
    "            if i % prvocislo == 0:\n",
    "                break\n",
    "        else:\n",
    "            prvocisla.append(i)\n",
    "    return prvocisla[:n]"
   ]
  },
  {
   "cell_type": "code",
   "execution_count": 231,
   "metadata": {},
   "outputs": [
    {
     "data": {
      "text/plain": [
       "[2, 3, 5, 7, 11, 13, 17, 19]"
      ]
     },
     "execution_count": 231,
     "metadata": {},
     "output_type": "execute_result"
    }
   ],
   "source": [
    "najdi_prvocisla(8)"
   ]
  },
  {
   "attachments": {},
   "cell_type": "markdown",
   "metadata": {},
   "source": [
    "\n",
    "# Jupyter magics:\n",
    "- použijte funkci %%writefile a pomocí ní (a kopie funkcí z posledního DU) vytvořte .py soubor sloužící jako modul mající tři funkce viz minulý DU\n",
    "- Použijte magic příkazy %time %timeit %%time a %%timeit k měření času běhu různých částí kódu (například funkcí z minulého DU).\n"
   ]
  },
  {
   "cell_type": "code",
   "execution_count": 160,
   "metadata": {},
   "outputs": [
    {
     "name": "stdout",
     "output_type": "stream",
     "text": [
      "Writing du1.py\n"
     ]
    }
   ],
   "source": [
    "%%writefile du1.py\n",
    "def my_sqrt(a,n):\n",
    "    x = a\n",
    "    for i in range(n):\n",
    "        x = ((a/x)+x)/2\n",
    "    return x\n",
    "\n",
    "def pi_from_polygon(n):\n",
    "    a = 1\n",
    "    b = 1\n",
    "    v = my_sqrt(a**2 - (a / 2)**2, 100)\n",
    "    s = 6 * b * v / 2\n",
    "    #b = my_sqrt((a / 2)**2 + (1 - v)**2, 100)\n",
    "    for i in range(n):\n",
    "        b = my_sqrt((b / 2)**2 + (1 - v)**2, 100)\n",
    "        #print(b)\n",
    "        v = my_sqrt(a**2 - (b / 2)**2, 100)\n",
    "        #print(v)\n",
    "    s = 6 * 2**n * b * v / 2\n",
    "    return s\n",
    "\n",
    "def pi_from_series(n):\n",
    "    \n",
    "    sum = 0\n",
    "    a = (1 / 2**4)\n",
    "\n",
    "    for i in range(n):\n",
    "        if i == 0:\n",
    "            sum += (a / (2 * (i+1) + 1))\n",
    "        else:\n",
    "            a = a * ((2 * (i+1) - 3) / (2 * (i+1))) * (1 / 2**2)\n",
    "            sum += (a / (2 * (i+1) + 1))\n",
    "    \n",
    "    return 12 * (- (my_sqrt(3,1000) / 8) + (1 / 2) - sum)\n",
    "\n"
   ]
  },
  {
   "cell_type": "code",
   "execution_count": 164,
   "metadata": {},
   "outputs": [
    {
     "name": "stdout",
     "output_type": "stream",
     "text": [
      "CPU times: user 1.76 ms, sys: 0 ns, total: 1.76 ms\n",
      "Wall time: 1.79 ms\n",
      "552 µs ± 8.8 µs per loop (mean ± std. dev. of 7 runs, 1,000 loops each)\n"
     ]
    }
   ],
   "source": [
    "%time pi_from_polygon(10)\n",
    "\n",
    "%timeit pi_from_polygon(10)"
   ]
  },
  {
   "cell_type": "code",
   "execution_count": 166,
   "metadata": {},
   "outputs": [
    {
     "name": "stdout",
     "output_type": "stream",
     "text": [
      "CPU times: user 487 µs, sys: 0 ns, total: 487 µs\n",
      "Wall time: 498 µs\n"
     ]
    },
    {
     "data": {
      "text/plain": [
       "3.1415926535900365"
      ]
     },
     "execution_count": 166,
     "metadata": {},
     "output_type": "execute_result"
    }
   ],
   "source": [
    "%%time\n",
    "pi_from_series(15)"
   ]
  },
  {
   "cell_type": "code",
   "execution_count": 167,
   "metadata": {},
   "outputs": [
    {
     "name": "stdout",
     "output_type": "stream",
     "text": [
      "306 µs ± 5.41 µs per loop (mean ± std. dev. of 7 runs, 1,000 loops each)\n"
     ]
    }
   ],
   "source": [
    "%%timeit\n",
    "pi_from_series(15)"
   ]
  },
  {
   "cell_type": "markdown",
   "metadata": {},
   "source": [
    "\n",
    "# Práce s řetězci:\n",
    "\n",
    "- Použíjte funkce z minulého úkolu a v cyklu spočtěte $\\pi$ s různým $n$. Pomocí f-strings vypište výsledky ve formátu \"n = 5, pi = 3.14159, počet správných cifer = 5\".\n"
   ]
  },
  {
   "cell_type": "code",
   "execution_count": 169,
   "metadata": {},
   "outputs": [
    {
     "name": "stdout",
     "output_type": "stream",
     "text": [
      "n = 0, pi = 3.401923788646684, počet správných cifer = 0\n",
      "n = 1, pi = 3.1519237886466844, počet správných cifer = 1\n",
      "n = 2, pi = 3.1425487886466845, počet správných cifer = 3\n",
      "n = 3, pi = 3.1417117350752557, počet správných cifer = 3\n",
      "n = 4, pi = 3.1416100098148387, počet správných cifer = 4\n",
      "n = 5, pi = 3.1415954446070975, počet správných cifer = 5\n",
      "n = 6, pi = 3.1415931337808694, počet správných cifer = 6\n",
      "n = 7, pi = 3.1415927403902137, počet správných cifer = 7\n",
      "n = 8, pi = 3.1415926698836163, počet správných cifer = 7\n",
      "n = 9, pi = 3.1415926567409396, počet správných cifer = 8\n"
     ]
    }
   ],
   "source": [
    "import math\n",
    "n = 0\n",
    "while True:\n",
    "    pi_approx = pi_from_series(n)\n",
    "    x = math.floor(- math.log10(pi_approx - math.pi))\n",
    "    print(f\"n = {n}, pi = {pi_approx}, počet správných cifer = {x}\")\n",
    "    if x >= 8:\n",
    "        break\n",
    "    n += 1"
   ]
  },
  {
   "cell_type": "markdown",
   "metadata": {},
   "source": [
    "\n",
    "# Generátory a iterátory:\n",
    "\n",
    "- Napište generátor (funkci), který vytváří Fibonacciho posloupnost a vrátí prvních $n$ členů.\n"
   ]
  },
  {
   "cell_type": "code",
   "execution_count": 189,
   "metadata": {},
   "outputs": [],
   "source": [
    "def fibonacci(n):\n",
    "    a = 0\n",
    "    b = 1\n",
    "    for i in range(n+1):\n",
    "        yield a\n",
    "        a, b = b, a+b"
   ]
  },
  {
   "cell_type": "code",
   "execution_count": 186,
   "metadata": {},
   "outputs": [
    {
     "name": "stdout",
     "output_type": "stream",
     "text": [
      "0\n",
      "1\n",
      "1\n",
      "2\n",
      "3\n",
      "5\n",
      "8\n"
     ]
    }
   ],
   "source": [
    "f = fibonacci(10)\n",
    "print(next(f))\n",
    "print(next(f))\n",
    "print(next(f))\n",
    "print(next(f))\n",
    "print(next(f))\n",
    "print(next(f))\n",
    "print(next(f))\n"
   ]
  },
  {
   "cell_type": "markdown",
   "metadata": {},
   "source": [
    "\n",
    "# List comprehension:\n",
    "- Vytvořte seznam čísel od 1 do 10 pomocí list comprehension.\n",
    "- Vytvořte seznam druhých mocnin čísel od 1 do 10 pomocí list comprehension.\n",
    "- Vytvořte seznam prvočísel od 1 do 100 pomocí list comprehension. Hint (použijte funkci all() na generátor testující dělitelnost).\n"
   ]
  },
  {
   "cell_type": "code",
   "execution_count": 222,
   "metadata": {},
   "outputs": [
    {
     "name": "stdout",
     "output_type": "stream",
     "text": [
      "[0, 1, 2, 3, 4, 5, 6, 7, 8, 9, 10]\n",
      "[0, 1, 4, 9, 16, 25, 36, 49, 64, 81, 100]\n",
      "[0, 1, 2, 3, 5, 7, 11, 13, 17, 19, 23, 29, 31, 37, 41, 43, 47, 53, 59, 61, 67, 71, 73, 79, 83, 89, 97]\n"
     ]
    }
   ],
   "source": [
    "cisla = [i for i in range(11)]\n",
    "print(cisla)\n",
    "\n",
    "moc = [i**2 for i in range(11)]\n",
    "print(moc)\n",
    "\n",
    "prv = [i for i in range(101) if all(i % n != 0 for n in range(2,i-1))]\n",
    "print(prv)"
   ]
  },
  {
   "cell_type": "markdown",
   "metadata": {},
   "source": [
    "\n",
    "# Práce se soubory:\n",
    "- Pomocí %%writefile vytvořte soubor s nějakým textem.\n",
    "- Otevřete soubor pro čtení a vypište jeho obsah.\n",
    "- Otevřete jiný soubor pro zápis a napište do něj textový řetězec.\n",
    "- Pomocí f-strings zapište do souboru tabulku čísel od 1 do 10, jejich druhých mocnin a jejich druhých odmocnin."
   ]
  },
  {
   "cell_type": "code",
   "execution_count": 193,
   "metadata": {},
   "outputs": [
    {
     "name": "stdout",
     "output_type": "stream",
     "text": [
      "Overwriting neco.txt\n"
     ]
    }
   ],
   "source": [
    "%%writefile neco.txt\n",
    "hello world"
   ]
  },
  {
   "cell_type": "code",
   "execution_count": 224,
   "metadata": {},
   "outputs": [
    {
     "name": "stdout",
     "output_type": "stream",
     "text": [
      "hello world\n",
      "\n"
     ]
    }
   ],
   "source": [
    "with open('neco.txt', 'r') as f:\n",
    "    print(f.read())\n",
    "\n",
    "with open('necojineho.txt', 'w') as g:\n",
    "    g.write(\"ahoj\\n\")\n",
    "    g.write(f\"{cisla}\\n{moc}\\n{prv}\\n\")"
   ]
  },
  {
   "attachments": {},
   "cell_type": "markdown",
   "metadata": {},
   "source": [
    "# Domácí úkol:\n",
    "Pomocí vlastních tříd a dědičnosti vytvořte \"soubor tříd\" = nástroj pro derivaci funkcí.\n",
    "\n",
    "Konkrétněji:\n",
    "- Vytvořte třídu **Operator**\n",
    "    - Třída bude mít metody:\n",
    "        - `__init__()` - inicializuje operátor (zde stačí `pass`)\n",
    "        - `__str__()` - vrací řetězec reprezentující operátor\n",
    "        - `__repr__()` - vrací řetězec reprezentující operátor\n",
    "- Vytvořte třídu **BinaryOperator**, která bude dědit od třídy Operator\n",
    "    - Třída bude mít atributy:\n",
    "        - `levy_argument` - levý operand\n",
    "        - `pravy_argument` - pravý operand\n",
    "    - Třída bude mít metody:\n",
    "        - `__init__()` - inicializuje operátor, přiřadí argumenty\n",
    "        - `__str__()` - vrací řetězec reprezentující operátor\n",
    "        - `__repr__()` - vrací řetězec reprezentující operátor\n",
    "        - `diff()` - vrací derivaci operátoru\n",
    "- Vytvořte třídu **UnaryOperator**, která bude dědit od třídy Operator\n",
    "    - Třída bude mít atributy:\n",
    "        - `argument` - argument funkce \n",
    "    - Třída bude mít metody:\n",
    "        - `__init__()` - inicializuje operátor, přiřadí argument\n",
    "        - `__str__()` - vrací řetězec reprezentující operátor\n",
    "        - `__repr__()` - vrací řetězec reprezentující operátor\n",
    "        - `diff()` - vrací derivaci operátoru\n",
    "\n",
    "Pro počítání derivací použijte standardní pravidla:\n",
    "- derivace součtu je součet derivací\n",
    "- pravidlo pro derivaci součinu\n",
    "- derivace funkce je derivovaná funkce násobená derivovaným argumentem\n",
    "\n",
    "Pro **BinaryOperator** a **UnaryOperator** implementujte také metody implementující standardní operátory:\n",
    "- `__add__()` - implementuje operátor `+`\n",
    "- `__sub__()` - implementuje operátor `-`\n",
    "- `__mul__()` - implementuje operátor `*`\n",
    "\n",
    "Pro **BinaryOperator** implementujte dvě dceřiné třídy:\n",
    "- **Addition** - implementuje operátor `+`\n",
    "- **Multiplication** - implementuje operátor `*`\n",
    "\n",
    "Pro **UnaryOperator** implementujte tyto dceřiné třídy:\n",
    "- **exp** - implementuje funkci `exp`\n",
    "- **sin** - implementuje funkci `sin`\n",
    "- **cos** - implementuje funkci `cos`\n",
    "- **ln** - implementuje funkci `ln`\n",
    "- **frc** - implementuje funkci `1/x`\n",
    "- **identity** - implementuje identitu `x`\n",
    "- **cst** - implementuje konstantu `c`\n",
    "- **mocnina** - implementuje mocninu `x^n`\n",
    "\n",
    "U všech funckí implementujte adekvátně metodu `diff()` a `__str__()`, tak aby se funkce vypisovaly v přehledné podobě.\n",
    "\n",
    "Ozkoušejte na následujících funkcích:\n",
    "- $sin(x + cos(x*x)) + 1$\n",
    "- $x^2 + 2x + 1 + 2x^2$\n",
    "- $x^2 + 2x + exp(x)$"
   ]
  },
  {
   "cell_type": "code",
   "execution_count": 134,
   "metadata": {},
   "outputs": [],
   "source": [
    "# kostra k doplnění, místa označená TODO doplňte\n",
    "\n",
    "class Operator:\n",
    "    def __init__(self):\n",
    "        pass\n",
    "    \n",
    "    def __str__(self):\n",
    "        return type(self).__name__\n",
    "    \n",
    "    def __repr__(self):\n",
    "        return self.__str__()\n",
    "    \n",
    "    def diff(self):\n",
    "        pass\n",
    "    \n",
    "    def __add__(self, other):\n",
    "        # TODO (použijte Addition)\n",
    "        return Addition(self,other)\n",
    "    \n",
    "    def __sub__(self, other):\n",
    "        # TODO (použijte Addition a Multiplication se zápornou konstantu)\n",
    "        return Addition(self,Multiplication(other,-1))\n",
    "    \n",
    "    def __mul__(self, other):\n",
    "        # TODO (použijte Multiplication)\n",
    "        return Multiplication(self,other)\n",
    "    \n",
    "class BinaryOperator(Operator):\n",
    "    def __init__(self, levy_argument, pravy_argument):\n",
    "        self.levy_argument = levy_argument\n",
    "        self.pravy_argument = pravy_argument\n",
    "        \n",
    "class UnaryOperator(Operator):\n",
    "    def __init__(self, argument):\n",
    "        self.argument = argument\n",
    "    \n",
    "    def __str__(self):\n",
    "        return type(self).__name__ + \"(\" + str(self.argument) + \")\"\n",
    "        \n",
    "class Addition(BinaryOperator):\n",
    "    def __str__(self):\n",
    "        # TODO vypíšeme něco jako (levy_argument)+(pravy_argument)\n",
    "        return str(self.levy_argument) + \" + \" + str(self.pravy_argument)\n",
    "        \n",
    "    def diff(self):\n",
    "        # TODO\n",
    "        return str(self.levy_argument.diff()) + \" + \" + str(self.pravy_argument.diff())\n",
    "    \n",
    "class Multiplication(BinaryOperator):\n",
    "    def __str__(self):\n",
    "        # TODO vypíšeme něco jako (levy_argument)*(pravy_argument)\n",
    "        return \"(\" + str(self.levy_argument) + \")*(\" + str(self.pravy_argument) + \")\"\n",
    "\n",
    "    def diff(self):\n",
    "        # TODO\n",
    "        return \"(\" + str(self.levy_argument.diff()) + \")*(\" + str(self.pravy_argument) + \") + (\" + str(self.levy_argument) + \")*(\" + str(self.pravy_argument.diff()) + \")\"\n",
    "    \n",
    "class cst(UnaryOperator):\n",
    "    def __init__(self, value):\n",
    "        self.value = value\n",
    "    def __str__(self):\n",
    "        # TODO vypíšeme něco jako value\n",
    "        return str(self.value)\n",
    "        \n",
    "    def diff(self):\n",
    "        # TODO\n",
    "        return \"0\"\n",
    "    \n",
    "class identity(UnaryOperator):\n",
    "    def __init__(self):\n",
    "        pass\n",
    "    def __str__(self):\n",
    "        # TODO vypíšeme něco jako x\\\n",
    "        return \"x\"   \n",
    "        \n",
    "    def diff(self):\n",
    "        # TODO\n",
    "        return \"1\"\n",
    "    \n",
    "class mocnina(UnaryOperator):\n",
    "    def __init__(self, argument, exponent):\n",
    "        self.argument = argument\n",
    "        self.exponent = exponent\n",
    "    def __str__(self):\n",
    "        # TODO vypíšeme něco jako argument^exponent\n",
    "        return \"(\" + str(self.argument) + \")\" + \"^\" + str(self.exponent)\n",
    "    \n",
    "    def diff(self):\n",
    "        # TODO\n",
    "        return \"(\" + str(self.exponent) + \")*\" + str(mocnina(self.argument, self.exponent-1))\n",
    "    \n",
    "class sin(UnaryOperator):\n",
    "    def diff(self):\n",
    "        # TODO\n",
    "        return \"(\" + str(cos(self.argument)) + \")*(\" + str(self.argument.diff()) + \")\"\n",
    "\n",
    "class cos(UnaryOperator):\n",
    "    def diff(self):\n",
    "        # TODO\n",
    "        return \"((-1)*\" + str(sin(self.argument)) + \")*(\" + str(self.argument.diff()) + \")\"\n",
    "\n",
    "class exp(UnaryOperator):\n",
    "    def diff(self):\n",
    "        # TODO\n",
    "        return \"(\" + str(exp(self.argument)) + \")*(\" + str(self.argument.diff()) + \")\"\n",
    "    \n",
    "class ln(UnaryOperator):\n",
    "    def diff(self):\n",
    "        # TODO\n",
    "        return str(frc(1,self.argument))\n",
    "\n",
    "class frc(UnaryOperator):\n",
    "    def __str__(self):\n",
    "        # TODO vypíšeme něco jako 1/(argument)\n",
    "        return \"1 / (\" + self + \")\"\n",
    "    \n",
    "    def diff(self):\n",
    "        # TODO\n",
    "        pass"
   ]
  },
  {
   "cell_type": "code",
   "execution_count": 135,
   "metadata": {},
   "outputs": [
    {
     "name": "stdout",
     "output_type": "stream",
     "text": [
      "(x)^2\n"
     ]
    }
   ],
   "source": [
    "x = identity()\n",
    "f2 = mocnina(x,2)\n",
    "print(f2)\n"
   ]
  },
  {
   "cell_type": "code",
   "execution_count": 136,
   "metadata": {},
   "outputs": [
    {
     "name": "stdout",
     "output_type": "stream",
     "text": [
      "sin(x + cos((x)*(x))) + 1\n",
      "(cos(x + cos((x)*(x))))*(1 + ((-1)*sin((x)*(x)))*((1)*(x) + (x)*(1))) + 0\n"
     ]
    }
   ],
   "source": [
    "# takto by se to mělo používat\n",
    "x = identity()\n",
    "# sin(x + cos(x*x)) + 1\n",
    "f1 = sin(x + cos(x*x)) + cst(1)\n",
    "print(f1)\n",
    "print(f1.diff())"
   ]
  },
  {
   "attachments": {},
   "cell_type": "markdown",
   "metadata": {},
   "source": [
    "můj výstup byl:\n",
    "\n",
    "`sin(x + cos((x)*(x))) + 1`\n",
    "\n",
    "`(cos(x + cos((x)*(x))))*(1 + ((-1)*(sin((x)*(x))))*((1)*(x) + (x)*(1))) + 0`"
   ]
  },
  {
   "cell_type": "code",
   "execution_count": 137,
   "metadata": {},
   "outputs": [
    {
     "name": "stdout",
     "output_type": "stream",
     "text": [
      "(x)^2 + (2)*(x) + 1 + (2)*((x)^2)\n",
      "(2)*(x)^1 + (0)*(x) + (2)*(1) + 0 + (0)*((x)^2) + (2)*((2)*(x)^1)\n"
     ]
    }
   ],
   "source": [
    "x = identity()\n",
    "# x ^ 2 + 2x + 1 + 2x ^ 2\n",
    "f2 = mocnina(x,2) + cst(2)*x + cst(1) + cst(2)*mocnina(x,2)\n",
    "print(f2)\n",
    "print(f2.diff())\n"
   ]
  },
  {
   "attachments": {},
   "cell_type": "markdown",
   "metadata": {},
   "source": [
    "můj výstup byl:\n",
    "\n",
    "`(x)^2 + (2)*(x) + 1 + (2)*((x)^2)`\n",
    "\n",
    "`((2)*((x)^1))*(1) + (0)*(x) + (2)*(1) + 0 + (0)*((x)^2) + (2)*(((2)*((x)^1))*(1))`"
   ]
  },
  {
   "cell_type": "code",
   "execution_count": 138,
   "metadata": {},
   "outputs": [
    {
     "name": "stdout",
     "output_type": "stream",
     "text": [
      "(x)^2 + (2)*(x) + exp(x)\n",
      "(2)*(x)^1 + (0)*(x) + (2)*(1) + (exp(x))*(1)\n"
     ]
    }
   ],
   "source": [
    "x = identity()\n",
    "# x ^ 2 + 2x + exp(x)\n",
    "f3 = mocnina(x,2) + cst(2)*x + exp(x)\n",
    "print(f3)\n",
    "print(f3.diff())\n"
   ]
  },
  {
   "attachments": {},
   "cell_type": "markdown",
   "metadata": {},
   "source": [
    "můj výstup byl:\n",
    "\n",
    "`(x)^2 + (2)*(x) + exp(x)`\n",
    "\n",
    "`((2)*((x)^1))*(1) + (0)*(x) + (2)*(1) + (exp(x))*(1)`\n"
   ]
  },
  {
   "attachments": {},
   "cell_type": "markdown",
   "metadata": {},
   "source": [
    "# Bonusový úkol:\n",
    "Doplňte ke všem třídám metodu `simplify()`, která provede zjednodušení výrazu. Například:\n",
    "- součet s nulou vrátí druhý operand\n",
    "- součin s nulou vrátí nulu\n",
    "- mocnina s exponentem 0 vrátí 1\n",
    "- mocnina s exponentem 1 vrátí první argument\n",
    "- součín dvou stejných argumentů vrátí mocninu s exponentem 2\n",
    "- součin konstant vrátí konstantu se součinem\n",
    "- ..."
   ]
  },
  {
   "cell_type": "markdown",
   "metadata": {},
   "source": []
  }
 ],
 "metadata": {
  "kernelspec": {
   "display_name": "Python 3",
   "language": "python",
   "name": "python3"
  },
  "language_info": {
   "codemirror_mode": {
    "name": "ipython",
    "version": 3
   },
   "file_extension": ".py",
   "mimetype": "text/x-python",
   "name": "python",
   "nbconvert_exporter": "python",
   "pygments_lexer": "ipython3",
   "version": "3.10.6"
  },
  "orig_nbformat": 4,
  "vscode": {
   "interpreter": {
    "hash": "e7370f93d1d0cde622a1f8e1c04877d8463912d04d973331ad4851f04de6915a"
   }
  }
 },
 "nbformat": 4,
 "nbformat_minor": 2
}
